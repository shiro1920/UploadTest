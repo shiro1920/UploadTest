{
 "cells": [
  {
   "cell_type": "code",
   "execution_count": 1,
   "metadata": {
    "ExecuteTime": {
     "end_time": "2021-04-14T12:08:28.520348Z",
     "start_time": "2021-04-14T12:08:28.415467Z"
    }
   },
   "outputs": [],
   "source": [
    "from astropy.cosmology import FlatLambdaCDM\n",
    "\n",
    "# In this case we just need to define the matter density \n",
    "# and hubble parameter at z=0.\n",
    "\n",
    "# Note the default units for the hubble parameter H0 are km/s/Mpc. \n",
    "# You can also pass an astropy `Quantity` with the units specified. \n",
    "\n",
    "cosmo = FlatLambdaCDM(H0=70, Om0=0.3)"
   ]
  },
  {
   "cell_type": "code",
   "execution_count": 2,
   "metadata": {
    "ExecuteTime": {
     "end_time": "2021-04-14T12:08:28.964402Z",
     "start_time": "2021-04-14T12:08:28.902444Z"
    }
   },
   "outputs": [],
   "source": [
    "import numpy as np\n",
    "zvals = np.arange(0, 6, 0.1)\n",
    "dist = cosmo.angular_diameter_distance(zvals)"
   ]
  },
  {
   "cell_type": "code",
   "execution_count": 3,
   "metadata": {
    "ExecuteTime": {
     "end_time": "2021-04-14T12:08:30.469138Z",
     "start_time": "2021-04-14T12:08:30.332151Z"
    }
   },
   "outputs": [],
   "source": [
    "import matplotlib.pyplot as plt\n",
    "\n",
    "# Set up matplotlib to use a nicer set of plot parameters\n",
    "%config InlineBackend.rc = {}\n",
    "import matplotlib\n",
    "# matplotlib.rc_file(\"../../templates/matplotlibrc\")\n",
    "# plt.rc('xtick.major', size=4)\n",
    "# plt.rc('ytick.major', size=4)\n",
    "# plt.rc('xtick.minor', size=2)\n",
    "# plt.rc('ytick.minor', size=2)\n",
    "# plt.rc('axes', grid=False)\n",
    "# plt.rc('xtick.major', width=1)\n",
    "# plt.rc('xtick.minor', width=1)\n",
    "# plt.rc('ytick.major', width=1)\n",
    "# plt.rc('ytick.minor', width=1)\n",
    "\n",
    "# %matplotlib inline\n",
    "\n",
    "# fig = plt.figure(figsize=(6,4))\n",
    "# ax = fig.add_subplot(111)\n",
    "# ax.plot(zvals, dist);"
   ]
  },
  {
   "cell_type": "code",
   "execution_count": 4,
   "metadata": {
    "ExecuteTime": {
     "end_time": "2021-04-14T12:08:32.190354Z",
     "start_time": "2021-04-14T12:08:32.187929Z"
    }
   },
   "outputs": [],
   "source": [
    "import astropy.units as u\n",
    "ages = np.array([13, 10, 8, 6, 5, 4, 3, 2, 1.5, 1.2, 1])*u.Gyr"
   ]
  },
  {
   "cell_type": "code",
   "execution_count": 5,
   "metadata": {
    "ExecuteTime": {
     "end_time": "2021-04-14T12:08:32.654947Z",
     "start_time": "2021-04-14T12:08:32.544113Z"
    }
   },
   "outputs": [],
   "source": [
    "from astropy.cosmology import z_at_value\n",
    "ageticks = [z_at_value(cosmo.age, age) for age in ages]"
   ]
  },
  {
   "cell_type": "code",
   "execution_count": 33,
   "metadata": {
    "ExecuteTime": {
     "end_time": "2021-04-18T10:13:29.459221Z",
     "start_time": "2021-04-18T10:13:29.065420Z"
    }
   },
   "outputs": [
    {
     "data": {
      "image/png": "[encoded data removed]",
      "text/plain": [
       "<Figure size 432x288 with 2 Axes>"
      ]
     },
     "metadata": {
      "needs_background": "light"
     },
     "output_type": "display_data"
    }
   ],
   "source": [
    "from astropy.cosmology import Planck13\n",
    "dist2 = Planck13.angular_diameter_distance(zvals)\n",
    "\n",
    "fig = plt.figure(figsize=(6,4))\n",
    "ax = fig.add_subplot(111)\n",
    "ax.plot(zvals, dist2, 'r--',label='Planck 2013')\n",
    "ax.plot(zvals, dist,'#0000CD',lw = 1.8,label=\n",
    "        '$h=0.7,\\ \\Omega_M=0.3,\\ \\Omega_\\Lambda=0.7$')\n",
    "ax.legend(frameon=0, loc='lower right')\n",
    "ax2 = ax.twiny()\n",
    "ax2.set_xticks(ageticks)\n",
    "ax2.set_xticklabels(['{:g}'.format(age) for age in ages.value])\n",
    "zmin, zmax = 0.0, 5.9\n",
    "ax.set_xlim(zmin, zmax)\n",
    "ax2.set_xlim(zmin, zmax)\n",
    "ax2.set_xlabel('Time since Big Bang (Gyr)')\n",
    "ax.set_xlabel('Redshift')\n",
    "ax.set_ylabel('Angular diameter distance (Mpc)')\n",
    "ax.minorticks_on()\n",
    "ax.set_ylim(0, 1890)\n",
    "\n",
    "plt.savefig(\"hw7.pdf\",dpi = 1000)"
   ]
  },
  {
   "cell_type": "code",
   "execution_count": 20,
   "metadata": {
    "ExecuteTime": {
     "end_time": "2021-04-18T09:53:38.024322Z",
     "start_time": "2021-04-18T09:53:38.018584Z"
    }
   },
   "outputs": [
    {
     "name": "stdout",
     "output_type": "stream",
     "text": [
      "0.08459003907809064\n"
     ]
    }
   ],
   "source": [
    "from scipy import integrate\n",
    "def f(x):\n",
    "    return 1/(1+x)*np.sqrt(0.2439*(1+x)**3+0.756)\n",
    "v,err = integrate.quad(f, 0, 6)\n",
    "print(v/73)"
   ]
  },
  {
   "cell_type": "code",
   "execution_count": null,
   "metadata": {},
   "outputs": [],
   "source": []
  }
 ],
 "metadata": {
  "kernelspec": {
   "display_name": "Python 3",
   "language": "python",
   "name": "python3"
  },
  "language_info": {
   "codemirror_mode": {
    "name": "ipython",
    "version": 3
   },
   "file_extension": ".py",
   "mimetype": "text/x-python",
   "name": "python",
   "nbconvert_exporter": "python",
   "pygments_lexer": "ipython3",
   "version": "3.8.3"
  },
  "toc": {
   "base_numbering": 1,
   "nav_menu": {},
   "number_sections": true,
   "sideBar": true,
   "skip_h1_title": false,
   "title_cell": "Table of Contents",
   "title_sidebar": "Contents",
   "toc_cell": false,
   "toc_position": {},
   "toc_section_display": true,
   "toc_window_display": false
  },
  "varInspector": {
   "cols": {
    "lenName": 16,
    "lenType": 16,
    "lenVar": 40
   },
   "kernels_config": {
    "python": {
     "delete_cmd_postfix": "",
     "delete_cmd_prefix": "del ",
     "library": "var_list.py",
     "varRefreshCmd": "print(var_dic_list())"
    },
    "r": {
     "delete_cmd_postfix": ") ",
     "delete_cmd_prefix": "rm(",
     "library": "var_list.r",
     "varRefreshCmd": "cat(var_dic_list()) "
    }
   },
   "types_to_exclude": [
    "module",
    "function",
    "builtin_function_or_method",
    "instance",
    "_Feature"
   ],
   "window_display": false
  }
 },
 "nbformat": 4,
 "nbformat_minor": 4
}
